{
 "cells": [
  {
   "cell_type": "code",
   "execution_count": 1,
   "metadata": {},
   "outputs": [],
   "source": [
    "#importing dependencies\n",
    "import numpy as np \n",
    "import pandas as pd\n",
    "import matplotlib.pyplot as plt\n",
    "import seaborn as sns"
   ]
  },
  {
   "cell_type": "code",
   "execution_count": 2,
   "metadata": {},
   "outputs": [],
   "source": [
    "#displaying all the rows and columns\n",
    "pd.set_option('display.max_columns',None)\n",
    "pd.set_option('display.max_rows', None)"
   ]
  },
  {
   "cell_type": "code",
   "execution_count": 3,
   "metadata": {},
   "outputs": [
    {
     "name": "stdout",
     "output_type": "stream",
     "text": [
      "43093\n",
      "3010\n"
     ]
    }
   ],
   "source": [
    "#read and load the data\n",
    "data = pd.read_csv('NESARC dataset.csv', low_memory = False)\n",
    "print(len(data))\n",
    "print(len(data.columns))"
   ]
  },
  {
   "cell_type": "code",
   "execution_count": 4,
   "metadata": {},
   "outputs": [],
   "source": [
    "#converting all the varibles into upper-case letters\n",
    "data.columns = map(str.upper , data.columns)"
   ]
  },
  {
   "cell_type": "code",
   "execution_count": 5,
   "metadata": {},
   "outputs": [
    {
     "name": "stdout",
     "output_type": "stream",
     "text": [
      "0    38131\n",
      "1     4962\n",
      "Name: TAB12MDX, dtype: int64\n"
     ]
    }
   ],
   "source": [
    "#visualizing Frequency distributions\n",
    "c1 = data['TAB12MDX'].value_counts(sort = False) \n",
    "print(c1)"
   ]
  },
  {
   "cell_type": "code",
   "execution_count": 6,
   "metadata": {},
   "outputs": [
    {
     "name": "stdout",
     "output_type": "stream",
     "text": [
      "0    88.485369\n",
      "1    11.514631\n",
      "Name: TAB12MDX, dtype: float64\n"
     ]
    }
   ],
   "source": [
    "#visualizing Percentage distributions\n",
    "p1 = data['TAB12MDX'].value_counts(sort = False , normalize = True)\n",
    "print(p1*100)"
   ]
  },
  {
   "cell_type": "code",
   "execution_count": 7,
   "metadata": {},
   "outputs": [
    {
     "name": "stdout",
     "output_type": "stream",
     "text": [
      "1.0    9913\n",
      "2.0    8078\n",
      "9.0      22\n",
      "Name: CHECK321, dtype: int64\n"
     ]
    }
   ],
   "source": [
    "#visualizing Frequency distributions\n",
    "c2 = data['CHECK321'].value_counts(sort = False)\n",
    "print(c2)"
   ]
  },
  {
   "cell_type": "code",
   "execution_count": 8,
   "metadata": {},
   "outputs": [
    {
     "name": "stdout",
     "output_type": "stream",
     "text": [
      "1.0    0.550325\n",
      "2.0    0.448454\n",
      "9.0    0.001221\n",
      "Name: CHECK321, dtype: float64\n"
     ]
    }
   ],
   "source": [
    "#visualizing Percentage distributions\n",
    "p2 = data['CHECK321'].value_counts(sort = False , normalize = True)\n",
    "print(p2)"
   ]
  },
  {
   "cell_type": "code",
   "execution_count": 9,
   "metadata": {
    "scrolled": true
   },
   "outputs": [
    {
     "name": "stdout",
     "output_type": "stream",
     "text": [
      "NaN     25080\n",
      "20.0     5366\n",
      "10.0     3077\n",
      "5.0      1070\n",
      "40.0      993\n",
      "1.0       934\n",
      "3.0       923\n",
      "30.0      909\n",
      "2.0       884\n",
      "15.0      851\n",
      "4.0       573\n",
      "6.0       463\n",
      "8.0       299\n",
      "7.0       269\n",
      "99.0      262\n",
      "60.0      241\n",
      "12.0      230\n",
      "25.0      155\n",
      "50.0      106\n",
      "18.0       59\n",
      "9.0        49\n",
      "80.0       47\n",
      "16.0       40\n",
      "13.0       34\n",
      "35.0       30\n",
      "14.0       25\n",
      "11.0       23\n",
      "17.0       22\n",
      "98.0       15\n",
      "70.0       12\n",
      "22.0       10\n",
      "45.0        8\n",
      "24.0        7\n",
      "19.0        5\n",
      "29.0        3\n",
      "28.0        3\n",
      "55.0        2\n",
      "27.0        2\n",
      "37.0        2\n",
      "23.0        2\n",
      "75.0        2\n",
      "66.0        1\n",
      "57.0        1\n",
      "33.0        1\n",
      "34.0        1\n",
      "21.0        1\n",
      "39.0        1\n",
      "Name: S3AQ3C1, dtype: int64\n"
     ]
    }
   ],
   "source": [
    "#visualizing Frequency distributions and \"dropna = False\" displays missing values\n",
    "c3 = data['S3AQ3C1'].value_counts(sort = True, dropna = False)\n",
    "print(c3)"
   ]
  },
  {
   "cell_type": "code",
   "execution_count": 10,
   "metadata": {},
   "outputs": [
    {
     "name": "stdout",
     "output_type": "stream",
     "text": [
      "TAB12MDX\n",
      "0    38131\n",
      "1     4962\n",
      "dtype: int64\n"
     ]
    }
   ],
   "source": [
    "#another method to visualize frequency distributions\n",
    "ct1= data.groupby('TAB12MDX').size()\n",
    "print(ct1)"
   ]
  },
  {
   "cell_type": "code",
   "execution_count": 11,
   "metadata": {},
   "outputs": [
    {
     "name": "stdout",
     "output_type": "stream",
     "text": [
      "TAB12MDX\n",
      "0    88.485369\n",
      "1    11.514631\n",
      "dtype: float64\n"
     ]
    }
   ],
   "source": [
    "#another method to visualize percentage distributions\n",
    "pt1= data.groupby('TAB12MDX').size() * 100 /len(data)\n",
    "print(pt1)"
   ]
  },
  {
   "cell_type": "code",
   "execution_count": 12,
   "metadata": {},
   "outputs": [],
   "source": [
    "#re-defining the data in which only smokers between age 18 to 25 and those who have smoked cigrattes in the past 12 months(i.e. latest smokers) are taken in consideration\n",
    "sub1 = data[(data['AGE']>= 18) & (data['AGE'] <= 25) & (data['CHECK321'] == 1)]\n",
    "sub2 = sub1.copy()"
   ]
  },
  {
   "cell_type": "code",
   "execution_count": 13,
   "metadata": {
    "scrolled": true
   },
   "outputs": [
    {
     "name": "stdout",
     "output_type": "stream",
     "text": [
      "18    161\n",
      "19    200\n",
      "20    221\n",
      "21    239\n",
      "22    228\n",
      "23    231\n",
      "24    241\n",
      "25    185\n",
      "Name: AGE, dtype: int64\n"
     ]
    }
   ],
   "source": [
    "#visualizing Frequency distributions for age variable with re-formed data\n",
    "x5  = sub2['AGE'].value_counts(sort = False)\n",
    "print(x5)"
   ]
  },
  {
   "cell_type": "code",
   "execution_count": 14,
   "metadata": {},
   "outputs": [
    {
     "name": "stdout",
     "output_type": "stream",
     "text": [
      "1.0    1320\n",
      "2.0      68\n",
      "4.0      88\n",
      "3.0      91\n",
      "5.0      65\n",
      "6.0      71\n",
      "9.0       3\n",
      "Name: S3AQ3B1, dtype: int64\n"
     ]
    }
   ],
   "source": [
    "#visualizing Frequency distributions with re-formed data\n",
    "x2 = sub2['S3AQ3B1'].value_counts(sort = False)\n",
    "print(x2)"
   ]
  },
  {
   "cell_type": "code",
   "execution_count": 15,
   "metadata": {},
   "outputs": [
    {
     "name": "stdout",
     "output_type": "stream",
     "text": [
      "1.0    1320\n",
      "2.0      68\n",
      "4.0      88\n",
      "3.0      91\n",
      "5.0      65\n",
      "6.0      71\n",
      "NaN       3\n",
      "Name: S3AQ3B1, dtype: int64\n"
     ]
    }
   ],
   "source": [
    "#setting aside missing data\n",
    "sub2['S3AQ3B1'] = sub2['S3AQ3B1'].replace(9, np.nan)\n",
    "\n",
    "c2 = sub2['S3AQ3B1'].value_counts(sort=False, dropna=False)\n",
    "print(c2)"
   ]
  },
  {
   "cell_type": "code",
   "execution_count": 16,
   "metadata": {},
   "outputs": [],
   "source": [
    "#re-coding values\n",
    "recode1 = {1: 6, 2: 5, 3: 4, 4: 3, 5: 2, 6: 1}\n",
    "sub2['USFREQ']= sub2['S3AQ3B1'].map(recode1)"
   ]
  },
  {
   "cell_type": "code",
   "execution_count": 17,
   "metadata": {},
   "outputs": [],
   "source": [
    "#re-coding values\n",
    "recode2 = {1: 30, 2: 22, 3: 14, 4: 5, 5: 2.5, 6: 1}\n",
    "sub2['USFREQMO']= sub2['S3AQ3B1'].map(recode2)"
   ]
  },
  {
   "cell_type": "code",
   "execution_count": 18,
   "metadata": {},
   "outputs": [
    {
     "name": "stdout",
     "output_type": "stream",
     "text": [
      "30.0    1320\n",
      "22.0      68\n",
      "5.0       88\n",
      "14.0      91\n",
      "2.5       65\n",
      "1.0       71\n",
      "NaN        3\n",
      "Name: USFREQMO, dtype: int64\n"
     ]
    }
   ],
   "source": [
    "#visualizing Frequency distributions\n",
    "c3 = sub2['USFREQMO'].value_counts(sort = False , dropna = False)\n",
    "print(c3)"
   ]
  },
  {
   "cell_type": "code",
   "execution_count": 19,
   "metadata": {},
   "outputs": [],
   "source": [
    "#creating secondary variables\n",
    "sub2['NUMCIGMO_EST']=sub2['USFREQMO'] * sub2['S3AQ3C1']"
   ]
  },
  {
   "cell_type": "code",
   "execution_count": 20,
   "metadata": {
    "scrolled": true
   },
   "outputs": [
    {
     "name": "stdout",
     "output_type": "stream",
     "text": [
      "600.0     357\n",
      "300.0     350\n",
      "150.0     108\n",
      "450.0      97\n",
      "180.0      47\n",
      "120.0      46\n",
      "90.0       45\n",
      "210.0      39\n",
      "900.0      38\n",
      "10.0       38\n",
      "240.0      36\n",
      "5.0        34\n",
      "1200.0     29\n",
      "1.0        29\n",
      "60.0       28\n",
      "360.0      25\n",
      "30.0       25\n",
      "70.0       22\n",
      "42.0       19\n",
      "28.0       17\n",
      "56.0       15\n",
      "25.0       14\n",
      "66.0       14\n",
      "15.0       14\n",
      "2.0        14\n",
      "750.0      13\n",
      "20.0       13\n",
      "7.5        12\n",
      "3.0        12\n",
      "220.0      12\n",
      "2.5        11\n",
      "110.0      11\n",
      "140.0      10\n",
      "44.0        9\n",
      "12.5        9\n",
      "50.0        7\n",
      "390.0       7\n",
      "88.0        6\n",
      "270.0       6\n",
      "2970.0      5\n",
      "480.0       5\n",
      "100.0       5\n",
      "330.0       4\n",
      "132.0       4\n",
      "22.0        4\n",
      "84.0        3\n",
      "540.0       3\n",
      "154.0       3\n",
      "14.0        3\n",
      "176.0       3\n",
      "510.0       2\n",
      "1800.0      2\n",
      "4.0         2\n",
      "35.0        2\n",
      "420.0       2\n",
      "280.0       1\n",
      "840.0       1\n",
      "810.0       1\n",
      "2400.0      1\n",
      "2178.0      1\n",
      "24.0        1\n",
      "2940.0      1\n",
      "1050.0      1\n",
      "570.0       1\n",
      "98.0        1\n",
      "8.0         1\n",
      "6.0         1\n",
      "17.5        1\n",
      "Name: NUMCIGMO_EST, dtype: int64\n"
     ]
    }
   ],
   "source": [
    "#visualizing Frequency distributions\n",
    "c4 = sub2['NUMCIGMO_EST'].value_counts(sort = True)\n",
    "print(c4)"
   ]
  },
  {
   "cell_type": "code",
   "execution_count": 21,
   "metadata": {},
   "outputs": [
    {
     "name": "stdout",
     "output_type": "stream",
     "text": [
      "18    161\n",
      "19    200\n",
      "20    221\n",
      "21    239\n",
      "22    228\n",
      "23    231\n",
      "24    241\n",
      "25    185\n",
      "Name: AGE, dtype: int64\n"
     ]
    }
   ],
   "source": [
    "#visualizing Frequency distributions\n",
    "c5 = sub2['AGE'].value_counts(sort=False)\n",
    "print(c5)"
   ]
  },
  {
   "cell_type": "code",
   "execution_count": 22,
   "metadata": {},
   "outputs": [
    {
     "name": "stdout",
     "output_type": "stream",
     "text": [
      "1=0%tile     582\n",
      "2=25%tile    467\n",
      "3=50%tile    231\n",
      "4=75%tile    426\n",
      "Name: AGEGROUP4, dtype: int64\n"
     ]
    }
   ],
   "source": [
    "#grouping values within individual variables\n",
    "sub2['AGEGROUP4']=pd.qcut(sub2.AGE, 4, labels=[\"1=0%tile\",\"2=25%tile\",\"3=50%tile\",\"4=75%tile\"])\n",
    "c4 = sub2['AGEGROUP4'].value_counts(sort=False, dropna=True)\n",
    "print(c4)"
   ]
  },
  {
   "cell_type": "code",
   "execution_count": 23,
   "metadata": {},
   "outputs": [
    {
     "name": "stdout",
     "output_type": "stream",
     "text": [
      "(17, 20]    582\n",
      "(20, 22]    467\n",
      "(22, 25]    657\n",
      "Name: AGEGROUP3, dtype: int64\n"
     ]
    }
   ],
   "source": [
    "#grouping values within individual variables\n",
    "sub2['AGEGROUP3'] = pd.cut(sub2.AGE, [17, 20, 22, 25])\n",
    "c5 = sub2['AGEGROUP3'].value_counts(sort=False, dropna=True)\n",
    "print(c5)"
   ]
  },
  {
   "cell_type": "code",
   "execution_count": 24,
   "metadata": {},
   "outputs": [
    {
     "name": "stdout",
     "output_type": "stream",
     "text": [
      "AGE         18   19   20   21   22   23   24   25\n",
      "AGEGROUP3                                        \n",
      "(17, 20]   161  200  221    0    0    0    0    0\n",
      "(20, 22]     0    0    0  239  228    0    0    0\n",
      "(22, 25]     0    0    0    0    0  231  241  185\n"
     ]
    }
   ],
   "source": [
    "#using cross-tab function which allows us to cross to two variables with one another to determine which ages were included in which level of the variable AGEGROUP3\n",
    "print (pd.crosstab(sub2['AGEGROUP3'], sub2['AGE']))"
   ]
  },
  {
   "cell_type": "code",
   "execution_count": 25,
   "metadata": {},
   "outputs": [],
   "source": [
    "#change format from numeric to categorical\n",
    "sub2[\"TAB12MDX\"] = sub2[\"TAB12MDX\"].astype('category')"
   ]
  },
  {
   "cell_type": "code",
   "execution_count": 26,
   "metadata": {},
   "outputs": [
    {
     "data": {
      "text/plain": [
       "Text(0.5, 1.0, 'Nicotine dependence in past 12 months among young adult smokers')"
      ]
     },
     "execution_count": 26,
     "metadata": {},
     "output_type": "execute_result"
    },
    {
     "data": {
      "image/png": "[encoded data removed]",
      "text/plain": [
       "<Figure size 432x288 with 1 Axes>"
      ]
     },
     "metadata": {
      "needs_background": "light"
     },
     "output_type": "display_data"
    }
   ],
   "source": [
    "#univariate graph of a categorical variable\n",
    "sns.countplot(x = 'TAB12MDX' , data = sub2)\n",
    "plt.xlabel('Nicotine dependence in the last 12 months')\n",
    "plt.title('Nicotine dependence in past 12 months among young adult smokers')"
   ]
  },
  {
   "cell_type": "code",
   "execution_count": 27,
   "metadata": {},
   "outputs": [
    {
     "data": {
      "text/plain": [
       "Text(0.5, 1.0, 'Estimated number of cigrattes smoked per month among young adult smokers')"
      ]
     },
     "execution_count": 27,
     "metadata": {},
     "output_type": "execute_result"
    },
    {
     "data": {
      "image/png": "[encoded data removed]",
      "text/plain": [
       "<Figure size 432x288 with 1 Axes>"
      ]
     },
     "metadata": {
      "needs_background": "light"
     },
     "output_type": "display_data"
    }
   ],
   "source": [
    "#univariate histogram for quantitative variable\n",
    "sns.distplot(sub2[\"NUMCIGMO_EST\"].dropna() ,kde = False)\n",
    "plt.xlabel(\"Number of cigrattes smoked per month\")\n",
    "plt.title(\"Estimated number of cigrattes smoked per month among young adult smokers\")"
   ]
  },
  {
   "cell_type": "code",
   "execution_count": 28,
   "metadata": {},
   "outputs": [],
   "source": [
    "#creating new variable \"Packs Smoked per month\"\n",
    "sub2['PACKSPERMONTH'] = sub2['NUMCIGMO_EST'] / 20"
   ]
  },
  {
   "cell_type": "code",
   "execution_count": 29,
   "metadata": {
    "scrolled": true
   },
   "outputs": [
    {
     "name": "stdout",
     "output_type": "stream",
     "text": [
      "30.000     357\n",
      "15.000     350\n",
      "7.500      108\n",
      "22.500      97\n",
      "9.000       47\n",
      "6.000       46\n",
      "4.500       45\n",
      "10.500      39\n",
      "45.000      38\n",
      "0.500       38\n",
      "12.000      36\n",
      "0.250       34\n",
      "60.000      29\n",
      "0.050       29\n",
      "3.000       28\n",
      "1.500       25\n",
      "18.000      25\n",
      "3.500       22\n",
      "2.100       19\n",
      "1.400       17\n",
      "2.800       15\n",
      "1.250       14\n",
      "0.750       14\n",
      "3.300       14\n",
      "0.100       14\n",
      "1.000       13\n",
      "37.500      13\n",
      "11.000      12\n",
      "0.375       12\n",
      "0.150       12\n",
      "5.500       11\n",
      "0.125       11\n",
      "7.000       10\n",
      "0.625        9\n",
      "2.200        9\n",
      "2.500        7\n",
      "19.500       7\n",
      "4.400        6\n",
      "13.500       6\n",
      "24.000       5\n",
      "148.500      5\n",
      "5.000        5\n",
      "16.500       4\n",
      "6.600        4\n",
      "1.100        4\n",
      "7.700        3\n",
      "8.800        3\n",
      "0.700        3\n",
      "27.000       3\n",
      "4.200        3\n",
      "0.200        2\n",
      "90.000       2\n",
      "25.500       2\n",
      "21.000       2\n",
      "1.750        2\n",
      "1.200        1\n",
      "120.000      1\n",
      "0.300        1\n",
      "14.000       1\n",
      "40.500       1\n",
      "52.500       1\n",
      "0.400        1\n",
      "42.000       1\n",
      "0.875        1\n",
      "108.900      1\n",
      "147.000      1\n",
      "4.900        1\n",
      "28.500       1\n",
      "Name: PACKSPERMONTH, dtype: int64\n"
     ]
    }
   ],
   "source": [
    "#visualizing Frequency distributions\n",
    "ppm = sub2['PACKSPERMONTH'].value_counts(sort = True)\n",
    "print(ppm)"
   ]
  },
  {
   "cell_type": "code",
   "execution_count": 30,
   "metadata": {},
   "outputs": [
    {
     "data": {
      "text/plain": [
       "count    1703.000000\n",
       "mean       16.458735\n",
       "std        15.622447\n",
       "min         0.050000\n",
       "25%         4.950000\n",
       "50%        15.000000\n",
       "75%        30.000000\n",
       "max       148.500000\n",
       "Name: PACKSPERMONTH, dtype: float64"
      ]
     },
     "execution_count": 30,
     "metadata": {},
     "output_type": "execute_result"
    }
   ],
   "source": [
    "#basic statistical details\n",
    "sub2['PACKSPERMONTH'].describe()"
   ]
  },
  {
   "cell_type": "code",
   "execution_count": 31,
   "metadata": {},
   "outputs": [],
   "source": [
    "#creating categories \n",
    "sub2['PACKCATEGORY'] = pd.cut(sub2.PACKSPERMONTH, [0,5,10,20,30,147])"
   ]
  },
  {
   "cell_type": "code",
   "execution_count": 32,
   "metadata": {},
   "outputs": [],
   "source": [
    "#change format from numeric to categorical\n",
    "sub2['PACKCATEGORY'] = sub2['PACKCATEGORY'].astype('category')"
   ]
  },
  {
   "cell_type": "code",
   "execution_count": 33,
   "metadata": {},
   "outputs": [
    {
     "data": {
      "text/plain": [
       "count         1698\n",
       "unique           5\n",
       "top       (10, 20]\n",
       "freq           480\n",
       "Name: PACKCATEGORY, dtype: object"
      ]
     },
     "execution_count": 33,
     "metadata": {},
     "output_type": "execute_result"
    }
   ],
   "source": [
    "#basic statistical details\n",
    "sub2['PACKCATEGORY'].describe()"
   ]
  },
  {
   "cell_type": "code",
   "execution_count": 34,
   "metadata": {},
   "outputs": [
    {
     "name": "stdout",
     "output_type": "stream",
     "text": [
      "(0, 5]       431\n",
      "(5, 10]      232\n",
      "(10, 20]     480\n",
      "(20, 30]     467\n",
      "(30, 147]     88\n",
      "Name: PACKCATEGORY, dtype: int64\n"
     ]
    }
   ],
   "source": [
    "#visualizing Frequency distributions\n",
    "ppm = sub2['PACKCATEGORY'].value_counts(sort = False, dropna = True)\n",
    "print(ppm)"
   ]
  },
  {
   "cell_type": "code",
   "execution_count": 37,
   "metadata": {},
   "outputs": [
    {
     "data": {
      "text/plain": [
       "<matplotlib.axes._subplots.AxesSubplot at 0x19096e09408>"
      ]
     },
     "execution_count": 37,
     "metadata": {},
     "output_type": "execute_result"
    },
    {
     "data": {
      "image/png": "[encoded data removed]",
      "text/plain": [
       "<Figure size 432x288 with 1 Axes>"
      ]
     },
     "metadata": {
      "needs_background": "light"
     },
     "output_type": "display_data"
    }
   ],
   "source": [
    "sns.countplot(x = 'PACKCATEGORY' , data = sub2)"
   ]
  },
  {
   "cell_type": "code",
   "execution_count": 35,
   "metadata": {},
   "outputs": [],
   "source": [
    "#transforms to numeric variable\n",
    "sub2['TAB12MDX'] = pd.to_numeric(sub2['TAB12MDX'])"
   ]
  },
  {
   "cell_type": "code",
   "execution_count": 36,
   "metadata": {},
   "outputs": [
    {
     "data": {
      "text/plain": [
       "Text(6.799999999999997, 0.5, 'Proportion nicotine dependent')"
      ]
     },
     "execution_count": 36,
     "metadata": {},
     "output_type": "execute_result"
    },
    {
     "data": {
      "image/png": "[encoded data removed]",
      "text/plain": [
       "<Figure size 360x360 with 1 Axes>"
      ]
     },
     "metadata": {
      "needs_background": "light"
     },
     "output_type": "display_data"
    }
   ],
   "source": [
    "#bi-variate bar graph\n",
    "sns.catplot(x ='PACKCATEGORY', y ='TAB12MDX', data = sub2, kind =\"bar\", ci = None)\n",
    "plt.xlabel('Packs smoked per month')\n",
    "plt.ylabel(\"Proportion nicotine dependent\")"
   ]
  }
 ],
 "metadata": {
  "kernelspec": {
   "display_name": "Python 3",
   "language": "python",
   "name": "python3"
  },
  "language_info": {
   "codemirror_mode": {
    "name": "ipython",
    "version": 3
   },
   "file_extension": ".py",
   "mimetype": "text/x-python",
   "name": "python",
   "nbconvert_exporter": "python",
   "pygments_lexer": "ipython3",
   "version": "3.7.5"
  }
 },
 "nbformat": 4,
 "nbformat_minor": 4
}
